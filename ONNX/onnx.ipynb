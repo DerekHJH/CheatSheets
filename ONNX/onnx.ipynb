{
 "cells": [
  {
   "cell_type": "markdown",
   "metadata": {},
   "source": [
    "# ONNX Concepts\n",
    "\n",
    "ONNX can be compared to a programming language specialized in mathematical functions. It defines all the necessary operations a machine learning model needs to implement its inference function with this language. A linear regression could be represented in the following way:\n",
    "\n",
    "```python\n",
    "def onnx_linear_regressor(X):\n",
    "    \"ONNX code for a linear regression\"\n",
    "    return onnx.Add(onnx.MatMul(X, coefficients), bias)\n",
    "```\n",
    "\n",
    "![](figs/linreg1.png)\n",
    "\n",
    "This example is very similar to an expression a developer could write in Python. It can be also represented as a graph that shows step-by-step how to transform the features to get a prediction. That’s why a machine-learning model implemented with ONNX is often referenced as an ONNX graph."
   ]
  },
  {
   "cell_type": "markdown",
   "metadata": {},
   "source": [
    "## Input, Output, Node, Initializer, Attributes\n",
    "\n",
    "Building an ONNX graph means implementing a function with the ONNX language or more precisely the ONNX Operators. A linear regression would be written this way. The following lines do not follow python syntax. It is just a kind of pseudo-code to illustrate the model.\n",
    "\n",
    "```onnx\n",
    "Input: float[M,K] x, float[K,N] a, float[N] c\n",
    "Output: float[M, N] y\n",
    "\n",
    "r = onnx.MatMul(a, x)\n",
    "y = onnx.Add(ax, c)\n",
    "```\n",
    "\n",
    "This code implements a function f(x, a, c) -> y = a @ x + c. And x, a, c are the inputs, y is the output. r is an intermediate result. MatMul and Add are the nodes. They also have inputs and outputs. A node has also a type, one of the operators in ONNX Operators."
   ]
  },
  {
   "cell_type": "markdown",
   "metadata": {},
   "source": [
    "The graph could also have an initializer. When an input never changes such as the coefficients of the linear regression, it is most efficient to turn it into a constant stored in the graph.\n",
    "\n",
    "```onnx\n",
    "Input: float[M,K] x\n",
    "Initializer: float[K,N] a, float[N] c\n",
    "Output: float[M, N] axc\n",
    "\n",
    "ax = onnx.MatMul(a, x)\n",
    "axc = onnx.Add(ax, c)\n",
    "```\n",
    "\n",
    "Visually, this graph would look like the following image. The right side describes operator Add where the second input is defined as an initializer.\n",
    "\n",
    "![](figs/linreg2.png)\n",
    "\n",
    "An attribute is a fixed parameter of an operator. Operator Gemm has four attributes, alpha, beta, transA, transB. Unless the runtime allows it through its API, once it has loaded the ONNX graph, these values cannot be changed and remain frozen for all the predictions."
   ]
  }
 ],
 "metadata": {
  "language_info": {
   "name": "python"
  },
  "orig_nbformat": 4
 },
 "nbformat": 4,
 "nbformat_minor": 2
}
